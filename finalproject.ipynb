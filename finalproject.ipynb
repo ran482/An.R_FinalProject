{
 "cells": [
  {
   "cell_type": "markdown",
   "id": "f222bb54-3b27-4ea2-9250-2b05a4cafc49",
   "metadata": {
    "tags": []
   },
   "source": [
    "import numpy as np \n",
    "import pandas as pd\n",
    "url = 'https://www.ndbc.noaa.gov/view_text_file.php?filename=wpow1c2022.txt.gz&dir=data/historical/cwind/'\n",
    "twenty22_data = pd.read_csv(url, delimiter = '\\t'\n",
    "display(twenty22_data)"
   ]
  },
  {
   "cell_type": "code",
   "execution_count": null,
   "id": "b3396391-3c21-4310-a6e9-318aae0571c8",
   "metadata": {},
   "outputs": [],
   "source": []
  }
 ],
 "metadata": {
  "kernelspec": {
   "display_name": "Python 3 (ipykernel)",
   "language": "python",
   "name": "python3"
  },
  "language_info": {
   "codemirror_mode": {
    "name": "ipython",
    "version": 3
   },
   "file_extension": ".py",
   "mimetype": "text/x-python",
   "name": "python",
   "nbconvert_exporter": "python",
   "pygments_lexer": "ipython3",
   "version": "3.10.10"
  }
 },
 "nbformat": 4,
 "nbformat_minor": 5
}
